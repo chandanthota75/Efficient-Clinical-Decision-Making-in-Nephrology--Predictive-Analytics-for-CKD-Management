{
 "cells": [
  {
   "cell_type": "markdown",
   "id": "0de2f368-91e9-4778-bdab-5e98d06cd026",
   "metadata": {},
   "source": [
    "## Data Processing Stage 1"
   ]
  },
  {
   "cell_type": "code",
   "execution_count": 1,
   "id": "01cea8fd-2ed8-4e08-83fe-0a3f3971ba97",
   "metadata": {},
   "outputs": [],
   "source": [
    "# Importing required libraries\n",
    "import os\n",
    "import pandas as pd\n",
    "import numpy as np\n",
    "from sklearn.model_selection import train_test_split\n",
    "from imblearn.over_sampling import SMOTE\n",
    "import matplotlib.pyplot as plt\n",
    "import seaborn as sns"
   ]
  },
  {
   "cell_type": "code",
   "execution_count": 2,
   "id": "c856f2b7-48cd-4bbc-b31b-2a88f11b70b2",
   "metadata": {},
   "outputs": [],
   "source": [
    "# Loading the dataset with required columns\n",
    "dataset = pd.read_csv(\"orgData/kidney_disease.csv\")\n",
    "dataset.rename(columns={'classification':'class'}, inplace=True)\n",
    "dataset.drop('id',axis=1,inplace=True)"
   ]
  },
  {
   "cell_type": "code",
   "execution_count": 3,
   "id": "fc555e72-0d97-4ae4-a543-c3cda5237c18",
   "metadata": {},
   "outputs": [
    {
     "name": "stdout",
     "output_type": "stream",
     "text": [
      "    age    bp     sg   al   su     rbc        pc         pcc          ba  \\\n",
      "0  48.0  80.0  1.020  1.0  0.0     NaN    normal  notpresent  notpresent   \n",
      "1   7.0  50.0  1.020  4.0  0.0     NaN    normal  notpresent  notpresent   \n",
      "2  62.0  80.0  1.010  2.0  3.0  normal    normal  notpresent  notpresent   \n",
      "3  48.0  70.0  1.005  4.0  0.0  normal  abnormal     present  notpresent   \n",
      "4  51.0  80.0  1.010  2.0  0.0  normal    normal  notpresent  notpresent   \n",
      "\n",
      "     bgr  ...   pcv      wc   rc  htn   dm  cad  appet   pe  ane class  \n",
      "0  121.0  ...  44.0  7800.0  5.2  yes  yes   no   good   no   no   ckd  \n",
      "1    NaN  ...  38.0  6000.0  NaN   no   no   no   good   no   no   ckd  \n",
      "2  423.0  ...  31.0  7500.0  NaN   no  yes   no   poor   no  yes   ckd  \n",
      "3  117.0  ...  32.0  6700.0  3.9  yes   no   no   poor  yes  yes   ckd  \n",
      "4  106.0  ...  35.0  7300.0  4.6   no   no   no   good   no   no   ckd  \n",
      "\n",
      "[5 rows x 25 columns]\n",
      "\n",
      "\n",
      "(400, 25)\n",
      "\n",
      "\n",
      "age      float64\n",
      "bp       float64\n",
      "sg       float64\n",
      "al       float64\n",
      "su       float64\n",
      "rbc       object\n",
      "pc        object\n",
      "pcc       object\n",
      "ba        object\n",
      "bgr      float64\n",
      "bu       float64\n",
      "sc       float64\n",
      "sod      float64\n",
      "pot      float64\n",
      "hemo     float64\n",
      "pcv      float64\n",
      "wc       float64\n",
      "rc       float64\n",
      "htn       object\n",
      "dm        object\n",
      "cad       object\n",
      "appet     object\n",
      "pe        object\n",
      "ane       object\n",
      "class     object\n",
      "dtype: object\n",
      "\n",
      "\n",
      "              age          bp          sg          al          su         bgr  \\\n",
      "count  391.000000  388.000000  353.000000  354.000000  351.000000  356.000000   \n",
      "mean    51.483376   76.469072    1.017408    1.016949    0.450142  148.036517   \n",
      "std     17.169714   13.683637    0.005717    1.352679    1.099191   79.281714   \n",
      "min      2.000000   50.000000    1.005000    0.000000    0.000000   22.000000   \n",
      "25%     42.000000   70.000000    1.010000    0.000000    0.000000   99.000000   \n",
      "50%     55.000000   80.000000    1.020000    0.000000    0.000000  121.000000   \n",
      "75%     64.500000   80.000000    1.020000    2.000000    0.000000  163.000000   \n",
      "max     90.000000  180.000000    1.025000    5.000000    5.000000  490.000000   \n",
      "\n",
      "               bu          sc         sod         pot        hemo         pcv  \\\n",
      "count  381.000000  383.000000  313.000000  312.000000  348.000000  329.000000   \n",
      "mean    57.425722    3.072454  137.528754    4.627244   12.526437   38.884498   \n",
      "std     50.503006    5.741126   10.408752    3.193904    2.912587    8.990105   \n",
      "min      1.500000    0.400000    4.500000    2.500000    3.100000    9.000000   \n",
      "25%     27.000000    0.900000  135.000000    3.800000   10.300000   32.000000   \n",
      "50%     42.000000    1.300000  138.000000    4.400000   12.650000   40.000000   \n",
      "75%     66.000000    2.800000  142.000000    4.900000   15.000000   45.000000   \n",
      "max    391.000000   76.000000  163.000000   47.000000   17.800000   54.000000   \n",
      "\n",
      "                 wc          rc  \n",
      "count    294.000000  269.000000  \n",
      "mean    8406.122449    4.707435  \n",
      "std     2944.474190    1.025323  \n",
      "min     2200.000000    2.100000  \n",
      "25%     6500.000000    3.900000  \n",
      "50%     8000.000000    4.800000  \n",
      "75%     9800.000000    5.400000  \n",
      "max    26400.000000    8.000000  \n"
     ]
    }
   ],
   "source": [
    "# Dataset Summary\n",
    "print(dataset.head())\n",
    "print(\"\\n\")\n",
    "print(dataset.shape)\n",
    "print(\"\\n\")\n",
    "print(dataset.dtypes)\n",
    "print(\"\\n\")\n",
    "print(dataset.describe())"
   ]
  },
  {
   "cell_type": "code",
   "execution_count": 4,
   "id": "98371c44-d243-4ae9-9185-5c8638c7b764",
   "metadata": {},
   "outputs": [],
   "source": [
    "\"\"\"\n",
    "The \"Object\" data type is Categorical data and the \"float64\" data type is Numerical data.\n",
    "Creating separate datasets one with numerical data and another with categorical data for easier data pre-processing\n",
    "\"\"\"\n",
    "\n",
    "column_names = dataset.columns\n",
    "\n",
    "numerical_vars = ['age', 'bp', 'sg', 'al', 'su', 'bgr', 'bu', 'sc', 'sod', 'pot', 'hemo', 'pcv', 'wc', 'rc'] # Numerical data variables/features\n",
    "categorical_vars = ['rbc', 'pc', 'pcc', 'ba', 'htn', 'dm', 'cad', 'appet', 'pe', 'ane', 'class'] # Categorical data variables/features\n",
    "\n",
    "numerical_df = dataset[numerical_vars]\n",
    "categorical_df = dataset[categorical_vars]"
   ]
  },
  {
   "cell_type": "markdown",
   "id": "b30d1bce-b9d6-47c4-b353-26c3bab387ac",
   "metadata": {},
   "source": [
    "### Numerical Data Pre-processing"
   ]
  },
  {
   "cell_type": "code",
   "execution_count": 5,
   "id": "067291b4-40d0-4d31-8d46-d437e7c60d57",
   "metadata": {},
   "outputs": [],
   "source": [
    "# Calculating the sum of \"NA's\" and \"0\" values in all variables/features present in the Numerical data\n",
    "numerical_null_values = numerical_df.isnull().sum()\n",
    "numerical_zero_counts = (numerical_df == 0).sum()\n",
    "\n",
    "# Storing the result for later analysis\n",
    "numerical_blank_values = numerical_zero_counts + numerical_null_values"
   ]
  },
  {
   "cell_type": "code",
   "execution_count": 6,
   "id": "79ae74b4-e088-4540-932f-a60de26ad04d",
   "metadata": {},
   "outputs": [
    {
     "name": "stdout",
     "output_type": "stream",
     "text": [
      "age       9\n",
      "bp       12\n",
      "sg       47\n",
      "al      245\n",
      "su      339\n",
      "bgr      44\n",
      "bu       19\n",
      "sc       17\n",
      "sod      87\n",
      "pot      88\n",
      "hemo     52\n",
      "pcv      71\n",
      "wc      106\n",
      "rc      131\n",
      "dtype: int64\n"
     ]
    }
   ],
   "source": [
    "print(numerical_blank_values)"
   ]
  },
  {
   "cell_type": "code",
   "execution_count": 7,
   "id": "b9a50e48-c719-42fc-94f2-a37c1cdef82b",
   "metadata": {},
   "outputs": [],
   "source": [
    "# Dropping the columns with lots of empty values\n",
    "numerical_df = numerical_df.drop(['al', 'su', 'wc', 'rc'], axis=1)\n",
    "numerical_vars = numerical_df.columns"
   ]
  },
  {
   "cell_type": "code",
   "execution_count": 8,
   "id": "92f16bcc-6ada-45d6-b30b-7520c8b7e8b6",
   "metadata": {},
   "outputs": [
    {
     "name": "stdout",
     "output_type": "stream",
     "text": [
      "    age    bp     sg    bgr    bu   sc    sod  pot  hemo   pcv\n",
      "0  48.0  80.0  1.020  121.0  36.0  1.2    NaN  NaN  15.4  44.0\n",
      "1   7.0  50.0  1.020    NaN  18.0  0.8    NaN  NaN  11.3  38.0\n",
      "2  62.0  80.0  1.010  423.0  53.0  1.8    NaN  NaN   9.6  31.0\n",
      "3  48.0  70.0  1.005  117.0  56.0  3.8  111.0  2.5  11.2  32.0\n",
      "4  51.0  80.0  1.010  106.0  26.0  1.4    NaN  NaN  11.6  35.0\n"
     ]
    }
   ],
   "source": [
    "print(numerical_df.head())"
   ]
  },
  {
   "cell_type": "code",
   "execution_count": 9,
   "id": "b34d008c-53a8-42bf-a25f-d2e87bba59fe",
   "metadata": {},
   "outputs": [],
   "source": [
    "# Filling the \"NA's\" and \"0\" values with median and converting the data type to float64\n",
    "numerical_df = numerical_df.fillna(numerical_df.median())\n",
    "numerical_df = numerical_df.astype('float64')"
   ]
  },
  {
   "cell_type": "code",
   "execution_count": 10,
   "id": "94a5270c-05cd-4b1f-ae69-3b2d3ae49f00",
   "metadata": {},
   "outputs": [],
   "source": [
    "# Checking the Numerical data after removing features/attributes\n",
    "numerical_null_values = numerical_df.isnull().sum()\n",
    "numerical_zero_counts = (numerical_df == 0).sum()\n",
    "\n",
    "# Storing the result in numerical_blank_values\n",
    "numerical_blank_values = numerical_zero_counts + numerical_null_values"
   ]
  },
  {
   "cell_type": "code",
   "execution_count": 11,
   "id": "efe1d766-20e1-4470-862b-712e31ec7834",
   "metadata": {},
   "outputs": [
    {
     "name": "stdout",
     "output_type": "stream",
     "text": [
      "age     0\n",
      "bp      0\n",
      "sg      0\n",
      "bgr     0\n",
      "bu      0\n",
      "sc      0\n",
      "sod     0\n",
      "pot     0\n",
      "hemo    0\n",
      "pcv     0\n",
      "dtype: int64\n",
      "\n",
      "\n",
      "    age    bp     sg    bgr    bu   sc    sod  pot  hemo   pcv\n",
      "0  48.0  80.0  1.020  121.0  36.0  1.2  138.0  4.4  15.4  44.0\n",
      "1   7.0  50.0  1.020  121.0  18.0  0.8  138.0  4.4  11.3  38.0\n",
      "2  62.0  80.0  1.010  423.0  53.0  1.8  138.0  4.4   9.6  31.0\n",
      "3  48.0  70.0  1.005  117.0  56.0  3.8  111.0  2.5  11.2  32.0\n",
      "4  51.0  80.0  1.010  106.0  26.0  1.4  138.0  4.4  11.6  35.0\n",
      "\n",
      "\n",
      "(400, 10)\n",
      "\n",
      "\n",
      "age     float64\n",
      "bp      float64\n",
      "sg      float64\n",
      "bgr     float64\n",
      "bu      float64\n",
      "sc      float64\n",
      "sod     float64\n",
      "pot     float64\n",
      "hemo    float64\n",
      "pcv     float64\n",
      "dtype: object\n"
     ]
    }
   ],
   "source": [
    "print(numerical_blank_values)\n",
    "print(\"\\n\")\n",
    "print(numerical_df.head())\n",
    "print(\"\\n\")\n",
    "print(numerical_df.shape)\n",
    "print(\"\\n\")\n",
    "print(numerical_df.dtypes)"
   ]
  },
  {
   "cell_type": "markdown",
   "id": "56a68e7b-ff53-4383-9a27-ef39e3e37a88",
   "metadata": {},
   "source": [
    "### Categorical Data Pre-processing"
   ]
  },
  {
   "cell_type": "code",
   "execution_count": 12,
   "id": "6b6c166c-18b5-481d-97ba-0c0769bc7ceb",
   "metadata": {},
   "outputs": [],
   "source": [
    "# Checking the Categorical data after removing features/attributes\n",
    "categorical_null_values = categorical_df.isnull().sum()\n",
    "categorical_zero_counts = (categorical_df == 0).sum()\n",
    "\n",
    "# Storing the result in categorical_blank_values\n",
    "categorical_blank_values = categorical_zero_counts + categorical_null_values"
   ]
  },
  {
   "cell_type": "code",
   "execution_count": 13,
   "id": "35665dc6-0da7-42fa-b3c2-13e39224acbc",
   "metadata": {},
   "outputs": [
    {
     "name": "stdout",
     "output_type": "stream",
     "text": [
      "rbc      152\n",
      "pc        65\n",
      "pcc        4\n",
      "ba         4\n",
      "htn        2\n",
      "dm         2\n",
      "cad        2\n",
      "appet      1\n",
      "pe         1\n",
      "ane        1\n",
      "class      0\n",
      "dtype: int64\n"
     ]
    }
   ],
   "source": [
    "print(categorical_blank_values)"
   ]
  },
  {
   "cell_type": "code",
   "execution_count": 14,
   "id": "8ef741da-b049-4783-a39c-3fcc4e5c6a41",
   "metadata": {},
   "outputs": [],
   "source": [
    "# Dropping columns with lots of empty values\n",
    "categorical_df = categorical_df.drop(['rbc'], axis=1)\n",
    "categorical_vars = categorical_df.columns"
   ]
  },
  {
   "cell_type": "code",
   "execution_count": 15,
   "id": "9ddf1b2f-6eea-492a-b5ad-bdadbfc996fe",
   "metadata": {},
   "outputs": [],
   "source": [
    "# Filling the \"NA's\" and \"0\" values with mode and converting the data type to float64\n",
    "categorical_df = categorical_df.fillna(categorical_df.mode().iloc[0])"
   ]
  },
  {
   "cell_type": "code",
   "execution_count": 16,
   "id": "ed915336-9d84-4378-b7a5-4c2cddc9cfa9",
   "metadata": {},
   "outputs": [],
   "source": [
    "# Checking the Categorical data after removing features/attributes\n",
    "categorical_null_values = categorical_df.isnull().sum()\n",
    "categorical_zero_counts = (categorical_df == 0).sum()\n",
    "\n",
    "# Storing the result for later analysis\n",
    "categorical_blank_values = categorical_zero_counts + categorical_null_values"
   ]
  },
  {
   "cell_type": "code",
   "execution_count": 17,
   "id": "47aac7d1-c327-4511-915c-78ff3b5163fc",
   "metadata": {},
   "outputs": [
    {
     "name": "stdout",
     "output_type": "stream",
     "text": [
      "pc       0\n",
      "pcc      0\n",
      "ba       0\n",
      "htn      0\n",
      "dm       0\n",
      "cad      0\n",
      "appet    0\n",
      "pe       0\n",
      "ane      0\n",
      "class    0\n",
      "dtype: int64\n",
      "\n",
      "\n",
      "         pc         pcc          ba  htn   dm cad appet   pe  ane class\n",
      "0    normal  notpresent  notpresent  yes  yes  no  good   no   no   ckd\n",
      "1    normal  notpresent  notpresent   no   no  no  good   no   no   ckd\n",
      "2    normal  notpresent  notpresent   no  yes  no  poor   no  yes   ckd\n",
      "3  abnormal     present  notpresent  yes   no  no  poor  yes  yes   ckd\n",
      "4    normal  notpresent  notpresent   no   no  no  good   no   no   ckd\n",
      "\n",
      "\n",
      "(400, 10)\n",
      "\n",
      "\n",
      "pc       object\n",
      "pcc      object\n",
      "ba       object\n",
      "htn      object\n",
      "dm       object\n",
      "cad      object\n",
      "appet    object\n",
      "pe       object\n",
      "ane      object\n",
      "class    object\n",
      "dtype: object\n"
     ]
    }
   ],
   "source": [
    "print(categorical_blank_values)\n",
    "print(\"\\n\")\n",
    "print(categorical_df.head())\n",
    "print(\"\\n\")\n",
    "print(categorical_df.shape)\n",
    "print(\"\\n\")\n",
    "print(categorical_df.dtypes)"
   ]
  },
  {
   "cell_type": "code",
   "execution_count": 18,
   "id": "a6083bae-11c5-42dc-b385-636f7166b2a9",
   "metadata": {},
   "outputs": [],
   "source": [
    "pd.set_option('future.no_silent_downcasting', True)\n",
    "\n",
    "# Using binary encoding on categorical data\n",
    "categorical_df[['htn', 'dm', 'cad', 'pe', 'ane']] = categorical_df[['htn', 'dm', 'cad', 'pe', 'ane']].replace(to_replace={'yes': 1, 'no': 0})\n",
    "categorical_df[['pc']] = categorical_df[['pc']].replace(to_replace={'abnormal': 1, 'normal': 0})\n",
    "categorical_df[['pcc', 'ba']] = categorical_df[['pcc', 'ba']].replace(to_replace={'present': 1, 'notpresent': 0})\n",
    "categorical_df[['appet']] = categorical_df[['appet']].replace(to_replace={'good': 1, 'poor': 0, 'no': np.nan})\n",
    "categorical_df['class'] = categorical_df['class'].replace(to_replace={'ckd': 1.0, 'ckd\\t': 1.0, 'notckd': 0.0, 'no': 0.0})\n",
    "\n",
    "# Converting the data types in the dataset to float64\n",
    "categorical_df = categorical_df.astype('float64')"
   ]
  },
  {
   "cell_type": "code",
   "execution_count": 19,
   "id": "25f7cc28-a87b-4245-8b62-49f86c20a330",
   "metadata": {},
   "outputs": [
    {
     "name": "stdout",
     "output_type": "stream",
     "text": [
      "      pc  pcc   ba  htn   dm  cad  appet   pe  ane  class\n",
      "0    0.0  0.0  0.0  1.0  1.0  0.0    1.0  0.0  0.0    1.0\n",
      "1    0.0  0.0  0.0  0.0  0.0  0.0    1.0  0.0  0.0    1.0\n",
      "2    0.0  0.0  0.0  0.0  1.0  0.0    0.0  0.0  1.0    1.0\n",
      "3    1.0  1.0  0.0  1.0  0.0  0.0    0.0  1.0  1.0    1.0\n",
      "4    0.0  0.0  0.0  0.0  0.0  0.0    1.0  0.0  0.0    1.0\n",
      "..   ...  ...  ...  ...  ...  ...    ...  ...  ...    ...\n",
      "395  0.0  0.0  0.0  0.0  0.0  0.0    1.0  0.0  0.0    0.0\n",
      "396  0.0  0.0  0.0  0.0  0.0  0.0    1.0  0.0  0.0    0.0\n",
      "397  0.0  0.0  0.0  0.0  0.0  0.0    1.0  0.0  0.0    0.0\n",
      "398  0.0  0.0  0.0  0.0  0.0  0.0    1.0  0.0  0.0    0.0\n",
      "399  0.0  0.0  0.0  0.0  0.0  0.0    1.0  0.0  0.0    0.0\n",
      "\n",
      "[400 rows x 10 columns]\n"
     ]
    }
   ],
   "source": [
    "print(categorical_df)"
   ]
  },
  {
   "cell_type": "code",
   "execution_count": 20,
   "id": "fab405a2-1ae5-43f8-b463-f09e4dd925b0",
   "metadata": {},
   "outputs": [],
   "source": [
    "# merging the dataset\n",
    "data_processed = pd.concat([numerical_df, categorical_df], axis=1)"
   ]
  },
  {
   "cell_type": "code",
   "execution_count": 21,
   "id": "4f128cc0-5d82-4578-af4c-b019ea8494bb",
   "metadata": {},
   "outputs": [
    {
     "name": "stdout",
     "output_type": "stream",
     "text": [
      "    age    bp     sg    bgr    bu   sc    sod  pot  hemo   pcv   pc  pcc   ba  \\\n",
      "0  48.0  80.0  1.020  121.0  36.0  1.2  138.0  4.4  15.4  44.0  0.0  0.0  0.0   \n",
      "1   7.0  50.0  1.020  121.0  18.0  0.8  138.0  4.4  11.3  38.0  0.0  0.0  0.0   \n",
      "2  62.0  80.0  1.010  423.0  53.0  1.8  138.0  4.4   9.6  31.0  0.0  0.0  0.0   \n",
      "3  48.0  70.0  1.005  117.0  56.0  3.8  111.0  2.5  11.2  32.0  1.0  1.0  0.0   \n",
      "4  51.0  80.0  1.010  106.0  26.0  1.4  138.0  4.4  11.6  35.0  0.0  0.0  0.0   \n",
      "\n",
      "   htn   dm  cad  appet   pe  ane  class  \n",
      "0  1.0  1.0  0.0    1.0  0.0  0.0    1.0  \n",
      "1  0.0  0.0  0.0    1.0  0.0  0.0    1.0  \n",
      "2  0.0  1.0  0.0    0.0  0.0  1.0    1.0  \n",
      "3  1.0  0.0  0.0    0.0  1.0  1.0    1.0  \n",
      "4  0.0  0.0  0.0    1.0  0.0  0.0    1.0  \n",
      "\n",
      "\n",
      "(400, 20)\n",
      "\n",
      "\n",
      "age      float64\n",
      "bp       float64\n",
      "sg       float64\n",
      "bgr      float64\n",
      "bu       float64\n",
      "sc       float64\n",
      "sod      float64\n",
      "pot      float64\n",
      "hemo     float64\n",
      "pcv      float64\n",
      "pc       float64\n",
      "pcc      float64\n",
      "ba       float64\n",
      "htn      float64\n",
      "dm       float64\n",
      "cad      float64\n",
      "appet    float64\n",
      "pe       float64\n",
      "ane      float64\n",
      "class    float64\n",
      "dtype: object\n"
     ]
    }
   ],
   "source": [
    "print(data_processed.head())\n",
    "print(\"\\n\")\n",
    "print(data_processed.shape)\n",
    "print(\"\\n\")\n",
    "print(data_processed.dtypes)"
   ]
  },
  {
   "cell_type": "code",
   "execution_count": 22,
   "id": "651b3a3f-35fe-452c-958e-4f2ff630a635",
   "metadata": {},
   "outputs": [],
   "source": [
    "# Shuffling the dataset to remove the bias\n",
    "idx = np.random.permutation(data_processed.index)\n",
    "\n",
    "# select the rows of the DataFrame in the shuffled order\n",
    "shuffled_df = data_processed.loc[idx]"
   ]
  },
  {
   "cell_type": "code",
   "execution_count": 23,
   "id": "96f8d1f7-bfba-4232-817f-0eb74d6e26dd",
   "metadata": {},
   "outputs": [],
   "source": [
    "output_dir = 'proData'\n",
    "if not os.path.exists(output_dir):\n",
    "    os.makedirs(output_dir)"
   ]
  },
  {
   "cell_type": "code",
   "execution_count": 24,
   "id": "05f5410e-bcac-4f33-ace7-e080cd946c46",
   "metadata": {},
   "outputs": [
    {
     "name": "stdout",
     "output_type": "stream",
     "text": [
      "File saved successfully in the proData directory.\n"
     ]
    }
   ],
   "source": [
    "# Saving the preprocessed dataset\n",
    "shuffled_df.to_csv(os.path.join(output_dir, 'Final Dataset.csv'), index=False)\n",
    "\n",
    "print(\"File saved successfully in the proData directory.\")"
   ]
  },
  {
   "cell_type": "code",
   "execution_count": 25,
   "id": "b6ee37a8-0579-4f58-ba1c-96e820a6bb2d",
   "metadata": {},
   "outputs": [],
   "source": [
    "# Checking the saved dataset\n",
    "final_dataset = pd.read_csv(\"ProData/Final Dataset.csv\")"
   ]
  },
  {
   "cell_type": "code",
   "execution_count": 26,
   "id": "403c4db2-11f7-45b2-a5ea-aaa3f14d9cc5",
   "metadata": {},
   "outputs": [
    {
     "name": "stdout",
     "output_type": "stream",
     "text": [
      "    age     bp     sg    bgr    bu   sc    sod  pot   hemo   pcv   pc  pcc  \\\n",
      "0  69.0   70.0  1.020   83.0  42.0  1.2  139.0  3.7  16.20  50.0  0.0  0.0   \n",
      "1  20.0   70.0  1.020  123.0  44.0  1.0  135.0  3.8  14.60  44.0  0.0  0.0   \n",
      "2  47.0   80.0  1.025  124.0  44.0  1.0  140.0  4.9  14.90  41.0  0.0  0.0   \n",
      "3  46.0  110.0  1.015  130.0  16.0  0.9  138.0  4.4  12.65  40.0  0.0  0.0   \n",
      "4  75.0   80.0  1.015  156.0  45.0  2.4  140.0  3.4  11.60  35.0  0.0  0.0   \n",
      "\n",
      "    ba  htn   dm  cad  appet   pe  ane  class  \n",
      "0  0.0  0.0  0.0  0.0    1.0  0.0  0.0    0.0  \n",
      "1  0.0  0.0  0.0  0.0    1.0  0.0  0.0    0.0  \n",
      "2  0.0  0.0  0.0  0.0    1.0  0.0  0.0    0.0  \n",
      "3  0.0  0.0  0.0  0.0    1.0  0.0  0.0    1.0  \n",
      "4  0.0  1.0  1.0  0.0    0.0  0.0  0.0    1.0  \n",
      "\n",
      "\n",
      "(400, 20)\n",
      "\n",
      "\n",
      "age      float64\n",
      "bp       float64\n",
      "sg       float64\n",
      "bgr      float64\n",
      "bu       float64\n",
      "sc       float64\n",
      "sod      float64\n",
      "pot      float64\n",
      "hemo     float64\n",
      "pcv      float64\n",
      "pc       float64\n",
      "pcc      float64\n",
      "ba       float64\n",
      "htn      float64\n",
      "dm       float64\n",
      "cad      float64\n",
      "appet    float64\n",
      "pe       float64\n",
      "ane      float64\n",
      "class    float64\n",
      "dtype: object\n"
     ]
    }
   ],
   "source": [
    "print(final_dataset.head())\n",
    "print(\"\\n\")\n",
    "print(final_dataset.shape)\n",
    "print(\"\\n\")\n",
    "print(final_dataset.dtypes)"
   ]
  },
  {
   "cell_type": "code",
   "execution_count": 27,
   "id": "ab9eb153-024e-4f6f-bf1d-45504209b809",
   "metadata": {},
   "outputs": [],
   "source": [
    "# Dividing the dataset into train and test data for model training and evaluation\n",
    "X = final_dataset.drop('class', axis=1)\n",
    "y = final_dataset['class']\n",
    "\n",
    "train_data, test_data, train_labels, test_labels = train_test_split(X, y, test_size=0.2, random_state=42)"
   ]
  },
  {
   "cell_type": "code",
   "execution_count": 28,
   "id": "65bac81c-19fd-4e8a-b551-bf348e8f0fdd",
   "metadata": {},
   "outputs": [
    {
     "name": "stdout",
     "output_type": "stream",
     "text": [
      "Number of samples in each class before SMOTE on train data: class\n",
      "1.0    200\n",
      "0.0    120\n",
      "Name: count, dtype: int64\n"
     ]
    }
   ],
   "source": [
    "# Count the number of instances for each class\n",
    "class_counts_before = train_labels.value_counts()\n",
    "\n",
    "# Print the number of samples in each class before SMOTE\n",
    "print(\"Number of samples in each class before SMOTE on train data:\", class_counts_before)"
   ]
  },
  {
   "cell_type": "code",
   "execution_count": 29,
   "id": "43ed8901-2089-4b35-b247-8ca851ac9854",
   "metadata": {},
   "outputs": [],
   "source": [
    "# Create an instance of SMOTE\n",
    "smote = SMOTE()\n",
    "\n",
    "# Apply SMOTE to the data\n",
    "train_data, train_labels = smote.fit_resample(train_data, train_labels)"
   ]
  },
  {
   "cell_type": "code",
   "execution_count": 30,
   "id": "72518e62-2ea9-4879-989a-b831650e79e7",
   "metadata": {},
   "outputs": [
    {
     "name": "stdout",
     "output_type": "stream",
     "text": [
      "Number of samples in each class after SMOTE on train data: class\n",
      "1.0    200\n",
      "0.0    200\n",
      "Name: count, dtype: int64\n"
     ]
    }
   ],
   "source": [
    "# Count the number of instances for each class\n",
    "class_counts_after = train_labels.value_counts()\n",
    "\n",
    "# Print the number of samples in each class after SMOTE\n",
    "print(\"Number of samples in each class after SMOTE on train data:\", class_counts_after)"
   ]
  },
  {
   "cell_type": "code",
   "execution_count": 31,
   "id": "027eddd7-92be-4a14-a12f-86e30bfd836a",
   "metadata": {},
   "outputs": [],
   "source": [
    "# Calculating and storing the instances for count plot\n",
    "class_counts_before = pd.DataFrame(data={\"class\": [\"ckd\", \"notckd\"], \"count\": [class_counts_before[1], class_counts_before[0]]})\n",
    "class_counts_after = pd.DataFrame(data={\"class\": [\"ckd\", \"notckd\"], \"count\": [class_counts_after[1], class_counts_after[0]]})"
   ]
  },
  {
   "cell_type": "code",
   "execution_count": 32,
   "id": "37fe3982-1222-47a3-ab03-dbc34298ce27",
   "metadata": {},
   "outputs": [
    {
     "data": {
      "image/png": "[encoded data removed]",
      "text/plain": [
       "<Figure size 1000x500 with 2 Axes>"
      ]
     },
     "metadata": {},
     "output_type": "display_data"
    }
   ],
   "source": [
    "# Countplot [Before and after]\n",
    "fig, axes = plt.subplots(1, 2, sharex=True, figsize=(10,5))\n",
    "\n",
    "sns.barplot(ax=axes[0], y=\"count\", x=\"class\", data=class_counts_before, hue='class', palette = [\"Lime\", \"blue\"], orient=\"v\", width=0.5)\n",
    "\n",
    "for i in axes[0].containers:\n",
    "    axes[0].bar_label(i,)\n",
    "\n",
    "sns.barplot(ax=axes[1], y=\"count\", x=\"class\", data=class_counts_after, hue='class', palette = [\"Lime\", \"blue\"], orient=\"v\", width=0.5)\n",
    "\n",
    "for i in axes[1].containers:\n",
    "    axes[1].bar_label(i,)\n",
    "\n",
    "plt.show()"
   ]
  },
  {
   "cell_type": "code",
   "execution_count": 33,
   "id": "af54789f-c8a1-4c15-86a9-ca98e344acf7",
   "metadata": {},
   "outputs": [
    {
     "name": "stdout",
     "output_type": "stream",
     "text": [
      "Files saved successfully in the proData directory.\n"
     ]
    }
   ],
   "source": [
    "# Save the datasets to the directory\n",
    "train_data.to_csv(os.path.join(output_dir, 'train_data.csv'), index=False)\n",
    "test_data.to_csv(os.path.join(output_dir, 'test_data.csv'), index=False)\n",
    "train_labels.to_csv(os.path.join(output_dir, 'train_labels.csv'), index=False)\n",
    "test_labels.to_csv(os.path.join(output_dir, 'test_labels.csv'), index=False)\n",
    "\n",
    "print(\"Files saved successfully in the proData directory.\")"
   ]
  },
  {
   "cell_type": "code",
   "execution_count": 34,
   "id": "8bdb4c37-768c-4249-869d-32703048fc4b",
   "metadata": {},
   "outputs": [],
   "source": [
    "# Checking the saved dataset\n",
    "train_data = pd.read_csv(\"ProData/train_data.csv\")\n",
    "test_data = pd.read_csv(\"ProData/test_data.csv\")\n",
    "train_labels = pd.read_csv(\"ProData/train_labels.csv\")\n",
    "test_labels = pd.read_csv(\"ProData/test_labels.csv\")"
   ]
  }
 ],
 "metadata": {
  "kernelspec": {
   "display_name": "Python 3 (ipykernel)",
   "language": "python",
   "name": "python3"
  },
  "language_info": {
   "codemirror_mode": {
    "name": "ipython",
    "version": 3
   },
   "file_extension": ".py",
   "mimetype": "text/x-python",
   "name": "python",
   "nbconvert_exporter": "python",
   "pygments_lexer": "ipython3",
   "version": "3.9.11"
  }
 },
 "nbformat": 4,
 "nbformat_minor": 5
}
